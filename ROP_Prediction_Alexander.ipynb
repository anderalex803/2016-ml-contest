{
  "nbformat": 4,
  "nbformat_minor": 0,
  "metadata": {
    "colab": {
      "name": "ROP_Prediction_Alexander.ipynb",
      "private_outputs": true,
      "provenance": [],
      "authorship_tag": "ABX9TyMxkWj1VOdaYW4udjCrh8Aq",
      "include_colab_link": true
    },
    "kernelspec": {
      "name": "python3",
      "display_name": "Python 3"
    },
    "language_info": {
      "name": "python"
    }
  },
  "cells": [
    {
      "cell_type": "markdown",
      "metadata": {
        "id": "view-in-github",
        "colab_type": "text"
      },
      "source": [
        "<a href=\"https://colab.research.google.com/github/anderalex803/2016-ml-contest/blob/master/ROP_Prediction_Alexander.ipynb\" target=\"_parent\"><img src=\"https://colab.research.google.com/assets/colab-badge.svg\" alt=\"Open In Colab\"/></a>"
      ]
    },
    {
      "cell_type": "code",
      "execution_count": null,
      "metadata": {
        "id": "GfKaFuACpSqL"
      },
      "outputs": [],
      "source": [
        "%matplotlib inline\n",
        "import pandas as pd\n",
        "import numpy as np\n",
        "import missingno as msno\n",
        "import matplotlib as mpl\n",
        "import matplotlib.pyplot as plt\n",
        "import seaborn as sns\n",
        "\n",
        "\n",
        "import warnings\n",
        "warnings.filterwarnings('ignore')"
      ]
    },
    {
      "cell_type": "code",
      "source": [
        "from google.colab import drive\n",
        "drive.mount('/content/drive')"
      ],
      "metadata": {
        "id": "EjpknA1_p14_"
      },
      "execution_count": null,
      "outputs": []
    },
    {
      "cell_type": "code",
      "source": [
        "# read data into python as dataframe \n",
        "df = pd.read_csv(\"/content/drive/MyDrive/Techpet Global/Petrolytics /Well_58-32_(Please keep confidential).csv\")\n",
        "df.head(10)"
      ],
      "metadata": {
        "id": "qR5ef9kYqGDM"
      },
      "execution_count": null,
      "outputs": []
    },
    {
      "cell_type": "code",
      "source": [
        "df.sample(10)"
      ],
      "metadata": {
        "id": "pgWNBnlEqLzt"
      },
      "execution_count": null,
      "outputs": []
    },
    {
      "cell_type": "code",
      "source": [
        "df.shape"
      ],
      "metadata": {
        "id": "nRTxaVX-qlXk"
      },
      "execution_count": null,
      "outputs": []
    },
    {
      "cell_type": "code",
      "source": [
        "df.info()"
      ],
      "metadata": {
        "id": "2fmL4QVDqoqt"
      },
      "execution_count": null,
      "outputs": []
    },
    {
      "cell_type": "code",
      "source": [
        "df.isnull().sum()"
      ],
      "metadata": {
        "id": "BFIDQi6gqsRN"
      },
      "execution_count": null,
      "outputs": []
    },
    {
      "cell_type": "code",
      "source": [
        "msno.matrix(df, figsize=(10,5), fontsize=12, color = (1, 0.38, 0.30))"
      ],
      "metadata": {
        "id": "1CoaYwrkcBt9"
      },
      "execution_count": null,
      "outputs": []
    },
    {
      "cell_type": "code",
      "source": [
        "df.describe()"
      ],
      "metadata": {
        "id": "YrCLV56_eYd_"
      },
      "execution_count": null,
      "outputs": []
    },
    {
      "cell_type": "code",
      "source": [
        "df.columns"
      ],
      "metadata": {
        "id": "zUtQSFJ8dJcC"
      },
      "execution_count": null,
      "outputs": []
    },
    {
      "cell_type": "code",
      "source": [
        "df1 = df.drop(['Depth(m)', 'ROP(1 m)'],axis=1)\n",
        "df1.describe()"
      ],
      "metadata": {
        "id": "hOncQwVtdPMr"
      },
      "execution_count": null,
      "outputs": []
    },
    {
      "cell_type": "code",
      "source": [
        "print(df.shape)\n",
        "print(df1.shape)"
      ],
      "metadata": {
        "id": "DHJLTkqieWPj"
      },
      "execution_count": null,
      "outputs": []
    },
    {
      "cell_type": "code",
      "source": [
        "def hist_plot(vals, lab):\n",
        "    sns.displot(vals)\n",
        "    plt.title('Histogram of ' + lab)\n",
        "    plt.xlabel('Value')\n",
        "    plt.ylabel('Density')\n",
        "\n",
        "hist_plot(df1['ROP(1 ft)'], 'ROP(1 ft)')"
      ],
      "metadata": {
        "id": "bqQ-KAzjfxKo"
      },
      "execution_count": null,
      "outputs": []
    },
    {
      "cell_type": "code",
      "source": [
        "df1.columns"
      ],
      "metadata": {
        "id": "OaPe_Nq_rQJ5"
      },
      "execution_count": null,
      "outputs": []
    },
    {
      "cell_type": "code",
      "source": [
        "def plot_histogram(df1, cols, bins = 10):\n",
        "    for col in cols:\n",
        "        fig = plt.figure(figsize=(6,6)) # define plot area\n",
        "        ax = fig.gca() # define axis    \n",
        "        df1[col].plot.hist(ax = ax, bins = bins) # Use the plot.hist method on subset of the data frame\n",
        "        ax.set_title('Histogram of ' + col) # Give the plot a main title\n",
        "        ax.set_xlabel(col) # Set text for the x axis\n",
        "        ax.set_ylabel('Density')# Set text for y axis\n",
        "        plt.show()\n",
        "        \n",
        "num_cols = ['Depth(ft)', 'ROP(1 ft)', 'weight on bit (k-lbs)', 'weight on bit (kg)',\n",
        "       'Temp Out( degF)', 'Temp Out( degC)', 'Temp In(degF)', 'Temp In(degC)',\n",
        "       'Pit Total (bbls)', 'Pit Total (m3)', 'Pump Press (psi)',\n",
        "       'Pump Press (KPa)', 'Hookload (k-lbs)', 'Hookload (kg)',\n",
        "       'Surface Torque (psi)', 'Surface Torque (KPa)', 'Rotary Speed (rpm)',\n",
        "       'Flow In (gal/min)', 'Flow In(liters/min)', 'Flow Out %',\n",
        "       'WH Pressure (psi)', 'WH Pressure (KPa)', 'H2S Floor', 'H2S Cellar',\n",
        "       'H2S Pits']    \n",
        "plot_histogram(df1, num_cols)"
      ],
      "metadata": {
        "id": "goi2e0eQrNOx"
      },
      "execution_count": null,
      "outputs": []
    },
    {
      "cell_type": "code",
      "source": [
        "def plot_density_hist(df1, cols, bins = 10, hist = False):\n",
        "    for col in cols:\n",
        "        sns.set_style(\"whitegrid\")\n",
        "        sns.distplot(df1[col], bins = bins, rug=True, hist = hist)\n",
        "        plt.title('Histogram of ' + col) # Give the plot a main title\n",
        "        plt.xlabel(col) # Set text for the x axis\n",
        "        plt.ylabel('Density')# Set text for y axis\n",
        "        plt.show()\n",
        "        \n",
        "plot_density_hist(df1, num_cols)  "
      ],
      "metadata": {
        "id": "KNYAV9qoscZP"
      },
      "execution_count": null,
      "outputs": []
    },
    {
      "cell_type": "code",
      "source": [
        "plot_density_hist(df1, num_cols, bins = 20, hist = True) "
      ],
      "metadata": {
        "id": "ZVOVkIv1ro7b"
      },
      "execution_count": null,
      "outputs": []
    },
    {
      "cell_type": "code",
      "source": [
        "def plot_scatter(df1, cols, col_y = 'ROP(1 ft)'):\n",
        "    for col in cols:\n",
        "        fig = plt.figure(figsize=(7,6)) # define plot area\n",
        "        ax = fig.gca() # define axis   \n",
        "        df1.plot.scatter(x = col, y = col_y, ax = ax)\n",
        "        ax.set_title('Scatter plot of ' + col_y + ' vs. ' + col) # Give the plot a main title\n",
        "        ax.set_xlabel(col) # Set text for the x axis\n",
        "        ax.set_ylabel(col_y\n",
        "                     )# Set text for y axis\n",
        "        plt.show()\n",
        "\n",
        "num_cols = ['weight on bit (k-lbs)', 'weight on bit (kg)',\n",
        "       'Temp Out( degF)', 'Temp Out( degC)', 'Temp In(degF)', 'Temp In(degC)',\n",
        "       'Pit Total (bbls)', 'Pit Total (m3)', 'Pump Press (psi)',\n",
        "       'Pump Press (KPa)', 'Hookload (k-lbs)', 'Hookload (kg)',\n",
        "       'Surface Torque (psi)', 'Surface Torque (KPa)', 'Rotary Speed (rpm)',\n",
        "       'Flow In (gal/min)', 'Flow In(liters/min)', 'Flow Out %',\n",
        "       'WH Pressure (psi)', 'WH Pressure (KPa)', 'H2S Floor', 'H2S Cellar',\n",
        "       'H2S Pits']\n",
        "plot_scatter(df1, num_cols)"
      ],
      "metadata": {
        "id": "fsy9Q0yrsUdd"
      },
      "execution_count": null,
      "outputs": []
    },
    {
      "cell_type": "code",
      "source": [
        "def plot_scatter(df1, cols, col_y = 'Depth(ft)'):\n",
        "    for col in cols:\n",
        "        fig = plt.figure(figsize=(7,6)) # define plot area\n",
        "        ax = fig.gca() # define axis   \n",
        "        df1.plot.scatter(x = col, y = col_y, ax = ax)\n",
        "        ax.set_title('Scatter plot of ' + col_y + ' vs. ' + col) # Give the plot a main title\n",
        "        ax.set_xlabel(col) # Set text for the x axis\n",
        "        ax.set_ylabel(col_y\n",
        "                     )# Set text for y axis\n",
        "        plt.show()\n",
        "\n",
        "num_cols = ['ROP(1 ft)']\n",
        "plot_scatter(df1, num_cols)"
      ],
      "metadata": {
        "id": "c-Y5tMNbtI1H"
      },
      "execution_count": null,
      "outputs": []
    },
    {
      "cell_type": "code",
      "source": [
        "def plot_desity_2d(df1, cols, col_y = 'ROP(1 ft)', kind ='kde'):\n",
        "    for col in cols:\n",
        "        sns.set_style(\"whitegrid\")\n",
        "        sns.jointplot(col, col_y, data=df1, kind=kind)\n",
        "        plt.xlabel(col) # Set text for the x axis\n",
        "        plt.ylabel(col_y)# Set text for y axis\n",
        "        plt.show()\n",
        "\n",
        "num_cols = ['weight on bit (k-lbs)', 'weight on bit (kg)',\n",
        "       'Temp Out( degF)', 'Temp Out( degC)', 'Temp In(degF)', 'Temp In(degC)',\n",
        "       'Pit Total (bbls)', 'Pit Total (m3)', 'Pump Press (psi)',\n",
        "       'Pump Press (KPa)', 'Hookload (k-lbs)', 'Hookload (kg)',\n",
        "       'Surface Torque (psi)', 'Surface Torque (KPa)', 'Rotary Speed (rpm)',\n",
        "       'Flow In (gal/min)', 'Flow In(liters/min)', 'Flow Out %',\n",
        "       'WH Pressure (psi)', 'WH Pressure (KPa)', 'H2S Floor', 'H2S Cellar',\n",
        "       'H2S Pits']\n",
        "\n",
        "plot_desity_2d(df1, num_cols) "
      ],
      "metadata": {
        "id": "Qg7IsXY_uB4s"
      },
      "execution_count": null,
      "outputs": []
    },
    {
      "cell_type": "code",
      "source": [
        "plot_desity_2d(df1, num_cols, kind = 'hex')"
      ],
      "metadata": {
        "id": "CuFDnQAbt4Fk"
      },
      "execution_count": null,
      "outputs": []
    },
    {
      "cell_type": "code",
      "source": [
        ""
      ],
      "metadata": {
        "id": "3ZCs9CtPt9ws"
      },
      "execution_count": null,
      "outputs": []
    }
  ]
}